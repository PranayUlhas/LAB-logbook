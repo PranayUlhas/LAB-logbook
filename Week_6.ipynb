{
 "cells": [
  {
   "cell_type": "markdown",
   "metadata": {
    "id": "eAXZw-BOklA-"
   },
   "source": [
    "\n",
    "\n",
    "# RNN for Time Series\n",
    "\n",
    "RNNs are used for sequence modeling. This tutorial will look at a time series data to be modeled and predicted using RNNs. "
   ]
  },
  {
   "cell_type": "code",
   "execution_count": 4,
   "metadata": {
    "id": "WO9ntPgRklBA"
   },
   "outputs": [],
   "source": [
    "#\n",
    "# Import Libraries\n",
    "#\n",
    "\n",
    "import pandas as pd\n",
    "import numpy as np\n",
    "\n",
    "# %matplotlib_inline\n",
    "import matplotlib.pyplot as plt\n"
   ]
  },
  {
   "cell_type": "markdown",
   "metadata": {
    "id": "T6HAjQBuklBA"
   },
   "source": [
    "## Data\n",
    "\n",
    "We will use retail data for time-series modeling. \n",
    "\n",
    "Link to the dataset:\n",
    " https://fred.stlouisfed.org/series/MRTSSM448USN\n",
    "\n",
    "Information about the Advance Monthly Retail Sales Survey can be found on the Census website at:\n",
    "https://www.census.gov/retail/marts/about_the_surveys.html\n",
    "\n",
    "Release: Advance Monthly Sales for Retail and Food Services  \n",
    "Units:  Millions of Dollars, Not Seasonally Adjusted\n",
    "Frequency:  Monthly\n",
    "\n",
    "Suggested Citation:\n",
    "U.S. Census Bureau, Advance Retail Sales: Clothing and Clothing Accessory Stores [RSCCASN], retrieved from FRED, Federal Reserve Bank of St. Louis; https://fred.stlouisfed.org/series/RSCCASN, November 16, 2019.\n",
    "\n",
    "https://fred.stlouisfed.org/series/RSCCASN"
   ]
  },
  {
   "cell_type": "markdown",
   "metadata": {
    "id": "j0afncMwmJiA"
   },
   "source": [
    "### Read data first -  Use index_col = 'DATE' and 'parse_dates = True' as a parameter."
   ]
  },
  {
   "cell_type": "code",
   "execution_count": 5,
   "metadata": {
    "id": "PWy0RE0iklBB"
   },
   "outputs": [
    {
     "data": {
      "text/html": [
       "<div>\n",
       "<style scoped>\n",
       "    .dataframe tbody tr th:only-of-type {\n",
       "        vertical-align: middle;\n",
       "    }\n",
       "\n",
       "    .dataframe tbody tr th {\n",
       "        vertical-align: top;\n",
       "    }\n",
       "\n",
       "    .dataframe thead th {\n",
       "        text-align: right;\n",
       "    }\n",
       "</style>\n",
       "<table border=\"1\" class=\"dataframe\">\n",
       "  <thead>\n",
       "    <tr style=\"text-align: right;\">\n",
       "      <th></th>\n",
       "      <th>MRTSSM448USN</th>\n",
       "    </tr>\n",
       "    <tr>\n",
       "      <th>DATE</th>\n",
       "      <th></th>\n",
       "    </tr>\n",
       "  </thead>\n",
       "  <tbody>\n",
       "    <tr>\n",
       "      <th>1992-01-01</th>\n",
       "      <td>6938.0</td>\n",
       "    </tr>\n",
       "    <tr>\n",
       "      <th>1992-02-01</th>\n",
       "      <td>7524.0</td>\n",
       "    </tr>\n",
       "    <tr>\n",
       "      <th>1992-03-01</th>\n",
       "      <td>8475.0</td>\n",
       "    </tr>\n",
       "    <tr>\n",
       "      <th>1992-04-01</th>\n",
       "      <td>9401.0</td>\n",
       "    </tr>\n",
       "    <tr>\n",
       "      <th>1992-05-01</th>\n",
       "      <td>9558.0</td>\n",
       "    </tr>\n",
       "  </tbody>\n",
       "</table>\n",
       "</div>"
      ],
      "text/plain": [
       "            MRTSSM448USN\n",
       "DATE                    \n",
       "1992-01-01        6938.0\n",
       "1992-02-01        7524.0\n",
       "1992-03-01        8475.0\n",
       "1992-04-01        9401.0\n",
       "1992-05-01        9558.0"
      ]
     },
     "execution_count": 5,
     "metadata": {},
     "output_type": "execute_result"
    }
   ],
   "source": [
    "# Your code to read data\n",
    "\n",
    "df = pd.read_csv(\"MRTSSM448USN.csv\", index_col = 'DATE', parse_dates = True)\n",
    "\n",
    "# Print first few rows of data\n",
    "df.head()"
   ]
  },
  {
   "cell_type": "markdown",
   "metadata": {
    "id": "20ILbN0TmrOJ"
   },
   "source": [
    "Does the sales column has any name?\n",
    "\n",
    "If no, set the name of the colum as 'Sales'."
   ]
  },
  {
   "cell_type": "code",
   "execution_count": 6,
   "metadata": {
    "id": "PZIxSODNklBC"
   },
   "outputs": [
    {
     "data": {
      "text/html": [
       "<div>\n",
       "<style scoped>\n",
       "    .dataframe tbody tr th:only-of-type {\n",
       "        vertical-align: middle;\n",
       "    }\n",
       "\n",
       "    .dataframe tbody tr th {\n",
       "        vertical-align: top;\n",
       "    }\n",
       "\n",
       "    .dataframe thead th {\n",
       "        text-align: right;\n",
       "    }\n",
       "</style>\n",
       "<table border=\"1\" class=\"dataframe\">\n",
       "  <thead>\n",
       "    <tr style=\"text-align: right;\">\n",
       "      <th></th>\n",
       "      <th>Sales</th>\n",
       "    </tr>\n",
       "    <tr>\n",
       "      <th>DATE</th>\n",
       "      <th></th>\n",
       "    </tr>\n",
       "  </thead>\n",
       "  <tbody>\n",
       "    <tr>\n",
       "      <th>1992-01-01</th>\n",
       "      <td>6938.0</td>\n",
       "    </tr>\n",
       "    <tr>\n",
       "      <th>1992-02-01</th>\n",
       "      <td>7524.0</td>\n",
       "    </tr>\n",
       "    <tr>\n",
       "      <th>1992-03-01</th>\n",
       "      <td>8475.0</td>\n",
       "    </tr>\n",
       "    <tr>\n",
       "      <th>1992-04-01</th>\n",
       "      <td>9401.0</td>\n",
       "    </tr>\n",
       "    <tr>\n",
       "      <th>1992-05-01</th>\n",
       "      <td>9558.0</td>\n",
       "    </tr>\n",
       "  </tbody>\n",
       "</table>\n",
       "</div>"
      ],
      "text/plain": [
       "             Sales\n",
       "DATE              \n",
       "1992-01-01  6938.0\n",
       "1992-02-01  7524.0\n",
       "1992-03-01  8475.0\n",
       "1992-04-01  9401.0\n",
       "1992-05-01  9558.0"
      ]
     },
     "execution_count": 6,
     "metadata": {},
     "output_type": "execute_result"
    }
   ],
   "source": [
    "# Set name of column as 'Sales'. Use - df.columns \n",
    "df.columns = ['Sales']\n",
    "\n",
    "df.head()"
   ]
  },
  {
   "cell_type": "markdown",
   "metadata": {
    "id": "mcaD8pEsssHE"
   },
   "source": [
    "Plot your data - Year vs Sales"
   ]
  },
  {
   "cell_type": "code",
   "execution_count": 7,
   "metadata": {
    "id": "E_SQ6sB0klBC"
   },
   "outputs": [
    {
     "data": {
      "text/plain": [
       "<Axes: xlabel='DATE'>"
      ]
     },
     "execution_count": 7,
     "metadata": {},
     "output_type": "execute_result"
    },
    {
     "data": {
      "image/png": "[encoded data removed]",
      "text/plain": [
       "<Figure size 1200x800 with 1 Axes>"
      ]
     },
     "metadata": {},
     "output_type": "display_data"
    }
   ],
   "source": [
    "# Your code to plot Year vs Sales. Use either matplot library of pandas dataframe.\n",
    "df.plot(figsize = (12, 8))"
   ]
  },
  {
   "cell_type": "markdown",
   "metadata": {
    "id": "TYHObQ6lklBC"
   },
   "source": [
    "### Next we will do Train Test Split. \n",
    "\n",
    "We will use last 1.5 year (18 month) samples for testing. Rest is for training."
   ]
  },
  {
   "cell_type": "code",
   "execution_count": 8,
   "metadata": {
    "id": "PljjHLVKklBD"
   },
   "outputs": [
    {
     "data": {
      "text/plain": [
       "386"
      ]
     },
     "execution_count": 8,
     "metadata": {},
     "output_type": "execute_result"
    }
   ],
   "source": [
    "# Assign variable test size = 18\n",
    "# Store length of data in variable length.\n",
    "# store training size in varialable train_size (Remember training size = total size - test_size)\n",
    "\n",
    "# from sklearn.model_selection import train_test_split\n",
    "\n",
    "test_size = 18\n",
    "data_length = len(df)\n",
    "data_length"
   ]
  },
  {
   "cell_type": "code",
   "execution_count": 9,
   "metadata": {},
   "outputs": [
    {
     "data": {
      "text/plain": [
       "368"
      ]
     },
     "execution_count": 9,
     "metadata": {},
     "output_type": "execute_result"
    }
   ],
   "source": [
    "len(df) - 18"
   ]
  },
  {
   "cell_type": "code",
   "execution_count": 10,
   "metadata": {},
   "outputs": [
    {
     "data": {
      "text/plain": [
       "368"
      ]
     },
     "execution_count": 10,
     "metadata": {},
     "output_type": "execute_result"
    }
   ],
   "source": [
    "train_size = data_length - test_size\n",
    "train_size"
   ]
  },
  {
   "cell_type": "markdown",
   "metadata": {
    "id": "AlCkBwGOvV5z"
   },
   "source": [
    "Now, we will find the indexes of the test data. Remember, these are the last 18 indexes in the pandas dataframe."
   ]
  },
  {
   "cell_type": "code",
   "execution_count": 11,
   "metadata": {
    "id": "Ty_G_Ky8klBD"
   },
   "outputs": [],
   "source": [
    "#Assign the start of test index in data frame to variable test_index.  Remember, it is equal to the length of dataframe - test size\n",
    "\n",
    "test_index = train_size"
   ]
  },
  {
   "cell_type": "code",
   "execution_count": 12,
   "metadata": {
    "id": "HyuEFcxoklBD"
   },
   "outputs": [],
   "source": [
    "# Store all data from 0 to test_index in variable train. Hint - Use df.iloc.\n",
    "# Store everthing from test_index to the last sample in test variable. Hint - Use df.iloc.\n",
    "\n",
    "train = df.iloc[:test_index]\n",
    "test = df.iloc[test_index:]"
   ]
  },
  {
   "cell_type": "code",
   "execution_count": 13,
   "metadata": {
    "id": "a9-JOcqTklBE"
   },
   "outputs": [
    {
     "name": "stdout",
     "output_type": "stream",
     "text": [
      "368\n",
      "18\n",
      "              Sales\n",
      "DATE               \n",
      "1992-01-01   6938.0\n",
      "1992-02-01   7524.0\n",
      "1992-03-01   8475.0\n",
      "1992-04-01   9401.0\n",
      "1992-05-01   9558.0\n",
      "...             ...\n",
      "2022-04-01  25224.0\n",
      "2022-05-01  26156.0\n",
      "2022-06-01  24338.0\n",
      "2022-07-01  24530.0\n",
      "2022-08-01  25651.0\n",
      "\n",
      "[368 rows x 1 columns]\n",
      "              Sales\n",
      "DATE               \n",
      "2022-09-01  23152.0\n",
      "2022-10-01  24243.0\n",
      "2022-11-01  28045.0\n",
      "2022-12-01  39263.0\n",
      "2023-01-01  19118.0\n",
      "2023-02-01  20666.0\n",
      "2023-03-01  24510.0\n",
      "2023-04-01  24232.0\n",
      "2023-05-01  26096.0\n",
      "2023-06-01  24364.0\n",
      "2023-07-01  24911.0\n",
      "2023-08-01  26657.0\n",
      "2023-09-01  23332.0\n",
      "2023-10-01  23933.0\n",
      "2023-11-01  28580.0\n",
      "2023-12-01  40684.0\n",
      "2024-01-01  19188.0\n",
      "2024-02-01  21964.0\n"
     ]
    }
   ],
   "source": [
    "# Print the size of the train data\n",
    "# Print the size of the test data\n",
    "# Print the train data\n",
    "# Print the test data\n",
    "\n",
    "print(train.size)\n",
    "print(test.size)\n",
    "print(train)\n",
    "print(test)\n"
   ]
  },
  {
   "cell_type": "markdown",
   "metadata": {
    "id": "YnHYQqjTklBE"
   },
   "source": [
    "### In Neural Networks, we need to Scale Data between 0-1"
   ]
  },
  {
   "cell_type": "code",
   "execution_count": 14,
   "metadata": {
    "id": "TlhbNUf6klBE"
   },
   "outputs": [],
   "source": [
    "from sklearn.preprocessing import MinMaxScaler"
   ]
  },
  {
   "cell_type": "code",
   "execution_count": 15,
   "metadata": {
    "id": "-yAHwjS3klBE"
   },
   "outputs": [
    {
     "data": {
      "text/html": [
       "<style>#sk-container-id-1 {color: black;}#sk-container-id-1 pre{padding: 0;}#sk-container-id-1 div.sk-toggleable {background-color: white;}#sk-container-id-1 label.sk-toggleable__label {cursor: pointer;display: block;width: 100%;margin-bottom: 0;padding: 0.3em;box-sizing: border-box;text-align: center;}#sk-container-id-1 label.sk-toggleable__label-arrow:before {content: \"▸\";float: left;margin-right: 0.25em;color: #696969;}#sk-container-id-1 label.sk-toggleable__label-arrow:hover:before {color: black;}#sk-container-id-1 div.sk-estimator:hover label.sk-toggleable__label-arrow:before {color: black;}#sk-container-id-1 div.sk-toggleable__content {max-height: 0;max-width: 0;overflow: hidden;text-align: left;background-color: #f0f8ff;}#sk-container-id-1 div.sk-toggleable__content pre {margin: 0.2em;color: black;border-radius: 0.25em;background-color: #f0f8ff;}#sk-container-id-1 input.sk-toggleable__control:checked~div.sk-toggleable__content {max-height: 200px;max-width: 100%;overflow: auto;}#sk-container-id-1 input.sk-toggleable__control:checked~label.sk-toggleable__label-arrow:before {content: \"▾\";}#sk-container-id-1 div.sk-estimator input.sk-toggleable__control:checked~label.sk-toggleable__label {background-color: #d4ebff;}#sk-container-id-1 div.sk-label input.sk-toggleable__control:checked~label.sk-toggleable__label {background-color: #d4ebff;}#sk-container-id-1 input.sk-hidden--visually {border: 0;clip: rect(1px 1px 1px 1px);clip: rect(1px, 1px, 1px, 1px);height: 1px;margin: -1px;overflow: hidden;padding: 0;position: absolute;width: 1px;}#sk-container-id-1 div.sk-estimator {font-family: monospace;background-color: #f0f8ff;border: 1px dotted black;border-radius: 0.25em;box-sizing: border-box;margin-bottom: 0.5em;}#sk-container-id-1 div.sk-estimator:hover {background-color: #d4ebff;}#sk-container-id-1 div.sk-parallel-item::after {content: \"\";width: 100%;border-bottom: 1px solid gray;flex-grow: 1;}#sk-container-id-1 div.sk-label:hover label.sk-toggleable__label {background-color: #d4ebff;}#sk-container-id-1 div.sk-serial::before {content: \"\";position: absolute;border-left: 1px solid gray;box-sizing: border-box;top: 0;bottom: 0;left: 50%;z-index: 0;}#sk-container-id-1 div.sk-serial {display: flex;flex-direction: column;align-items: center;background-color: white;padding-right: 0.2em;padding-left: 0.2em;position: relative;}#sk-container-id-1 div.sk-item {position: relative;z-index: 1;}#sk-container-id-1 div.sk-parallel {display: flex;align-items: stretch;justify-content: center;background-color: white;position: relative;}#sk-container-id-1 div.sk-item::before, #sk-container-id-1 div.sk-parallel-item::before {content: \"\";position: absolute;border-left: 1px solid gray;box-sizing: border-box;top: 0;bottom: 0;left: 50%;z-index: -1;}#sk-container-id-1 div.sk-parallel-item {display: flex;flex-direction: column;z-index: 1;position: relative;background-color: white;}#sk-container-id-1 div.sk-parallel-item:first-child::after {align-self: flex-end;width: 50%;}#sk-container-id-1 div.sk-parallel-item:last-child::after {align-self: flex-start;width: 50%;}#sk-container-id-1 div.sk-parallel-item:only-child::after {width: 0;}#sk-container-id-1 div.sk-dashed-wrapped {border: 1px dashed gray;margin: 0 0.4em 0.5em 0.4em;box-sizing: border-box;padding-bottom: 0.4em;background-color: white;}#sk-container-id-1 div.sk-label label {font-family: monospace;font-weight: bold;display: inline-block;line-height: 1.2em;}#sk-container-id-1 div.sk-label-container {text-align: center;}#sk-container-id-1 div.sk-container {/* jupyter's `normalize.less` sets `[hidden] { display: none; }` but bootstrap.min.css set `[hidden] { display: none !important; }` so we also need the `!important` here to be able to override the default hidden behavior on the sphinx rendered scikit-learn.org. See: https://github.com/scikit-learn/scikit-learn/issues/21755 */display: inline-block !important;position: relative;}#sk-container-id-1 div.sk-text-repr-fallback {display: none;}</style><div id=\"sk-container-id-1\" class=\"sk-top-container\"><div class=\"sk-text-repr-fallback\"><pre>MinMaxScaler()</pre><b>In a Jupyter environment, please rerun this cell to show the HTML representation or trust the notebook. <br />On GitHub, the HTML representation is unable to render, please try loading this page with nbviewer.org.</b></div><div class=\"sk-container\" hidden><div class=\"sk-item\"><div class=\"sk-estimator sk-toggleable\"><input class=\"sk-toggleable__control sk-hidden--visually\" id=\"sk-estimator-id-1\" type=\"checkbox\" checked><label for=\"sk-estimator-id-1\" class=\"sk-toggleable__label sk-toggleable__label-arrow\">MinMaxScaler</label><div class=\"sk-toggleable__content\"><pre>MinMaxScaler()</pre></div></div></div></div></div>"
      ],
      "text/plain": [
       "MinMaxScaler()"
      ]
     },
     "execution_count": 15,
     "metadata": {},
     "output_type": "execute_result"
    }
   ],
   "source": [
    "scaler = MinMaxScaler()\n",
    "scaler.fit(train)\n"
   ]
  },
  {
   "cell_type": "code",
   "execution_count": 16,
   "metadata": {},
   "outputs": [],
   "source": [
    "scaled_train = scaler.transform(train)\n",
    "scaled_test = scaler.transform(test)"
   ]
  },
  {
   "cell_type": "code",
   "execution_count": 17,
   "metadata": {
    "id": "Hr7DoWM2klBE"
   },
   "outputs": [
    {
     "name": "stdout",
     "output_type": "stream",
     "text": [
      "1.0\n",
      "1.0553158319645888\n",
      "0.0\n",
      "0.4549427911249687\n"
     ]
    }
   ],
   "source": [
    "#\n",
    "# Check if the data has been scaled properly\n",
    "#\n",
    "\n",
    "print(scaled_train.max())\n",
    "print(scaled_test.max())\n",
    "print(scaled_train.min())\n",
    "print(scaled_test.min())"
   ]
  },
  {
   "cell_type": "code",
   "execution_count": null,
   "metadata": {
    "id": "nkRDFTCnklBE"
   },
   "outputs": [],
   "source": []
  },
  {
   "cell_type": "markdown",
   "metadata": {
    "id": "TzvXEF_8klBE"
   },
   "source": [
    "# Time Series Generator\n",
    "\n",
    "This class takes in a sequence of data-points gathered at\n",
    "equal intervals, along with time series parameters such as\n",
    "stride, length of history, etc., to produce batches for\n",
    "training/validation.\n",
    "\n",
    "#### Arguments\n",
    "    data: Indexable generator (such as list or Numpy array)\n",
    "        containing consecutive data points (timesteps).\n",
    "        The data should be at 2D, and axis 0 is expected\n",
    "        to be the time dimension.\n",
    "    targets: Targets corresponding to timesteps in `data`.\n",
    "        It should have same length as `data`.\n",
    "    length: Length of the output sequences (in number of timesteps).\n",
    "    sampling_rate: Period between successive individual timesteps\n",
    "        within sequences. For rate `r`, timesteps\n",
    "        `data[i]`, `data[i-r]`, ... `data[i - length]`\n",
    "        are used for create a sample sequence.\n",
    "    stride: Period between successive output sequences.\n",
    "        For stride `s`, consecutive output samples would\n",
    "        be centered around `data[i]`, `data[i+s]`, `data[i+2*s]`, etc.\n",
    "    start_index: Data points earlier than `start_index` will not be used\n",
    "        in the output sequences. This is useful to reserve part of the\n",
    "        data for test or validation.\n",
    "    end_index: Data points later than `end_index` will not be used\n",
    "        in the output sequences. This is useful to reserve part of the\n",
    "        data for test or validation.\n",
    "    shuffle: Whether to shuffle output samples,\n",
    "        or instead draw them in chronological order.\n",
    "    reverse: Boolean: if `true`, timesteps in each output sample will be\n",
    "        in reverse chronological order.\n",
    "    batch_size: Number of timeseries samples in each batch\n",
    "        (except maybe the last one)."
   ]
  },
  {
   "cell_type": "markdown",
   "metadata": {
    "id": "7Ww3rFMDyeU6"
   },
   "source": [
    "# We will use 12 months as input and then predict the next month out\n"
   ]
  },
  {
   "cell_type": "code",
   "execution_count": 18,
   "metadata": {
    "id": "YWGudaCKklBF"
   },
   "outputs": [],
   "source": [
    "from tensorflow.keras.preprocessing.sequence import TimeseriesGenerator\n",
    "length = 12\n",
    "generator = TimeseriesGenerator(scaled_train, scaled_train, length=length, batch_size=1)"
   ]
  },
  {
   "cell_type": "code",
   "execution_count": 19,
   "metadata": {
    "id": "IFkYAa_ZklBF"
   },
   "outputs": [
    {
     "name": "stdout",
     "output_type": "stream",
     "text": [
      "Given the Array: \n",
      "[0.11586537 0.13217895 0.15865371 0.1844325  0.18880321 0.17833579\n",
      " 0.17613652 0.21538933 0.18922079 0.20817906 0.23415272 0.43481529]\n",
      "Predict this y: \n",
      " [[0.13156649]]\n"
     ]
    }
   ],
   "source": [
    "X, y = generator[0]\n",
    "\n",
    "print(f'Given the Array: \\n{X.flatten()}')\n",
    "print(f'Predict this y: \\n {y}')"
   ]
  },
  {
   "cell_type": "markdown",
   "metadata": {
    "id": "i2JNn76vklBF"
   },
   "source": [
    "### Create the Model"
   ]
  },
  {
   "cell_type": "code",
   "execution_count": 20,
   "metadata": {
    "id": "B8EKHpwsklBF"
   },
   "outputs": [],
   "source": [
    "from tensorflow.keras.models import Sequential\n",
    "from tensorflow.keras.layers import Dense\n",
    "from tensorflow.keras.layers import LSTM\n",
    "from tensorflow.keras.layers import SimpleRNN\n",
    "from tensorflow.keras.layers import GRU\n",
    "\n",
    "import tensorflow as tf"
   ]
  },
  {
   "cell_type": "code",
   "execution_count": 21,
   "metadata": {
    "id": "4_e-ciXHklBF"
   },
   "outputs": [],
   "source": [
    "# We're only using one feature in our time series\n",
    "n_features = 1"
   ]
  },
  {
   "cell_type": "markdown",
   "metadata": {
    "id": "ZlstmafY1SJC"
   },
   "source": [
    "# Define your own models. \n",
    "\n",
    "Use 1. SimpleRNN, LSTM, or GRU neural network.\n",
    "\n",
    "APIs:\n",
    "https://keras.io/api/layers/recurrent_layers/"
   ]
  },
  {
   "cell_type": "code",
   "execution_count": 22,
   "metadata": {
    "id": "97CMSHdnklBF"
   },
   "outputs": [],
   "source": [
    "# \n",
    "# Your code to create your own model\n",
    "#\n",
    "\n",
    "model = Sequential()\n",
    "model.add(LSTM(10, activation='relu', input_shape=(length, n_features,)))\n",
    "model.add(Dense(1))"
   ]
  },
  {
   "cell_type": "code",
   "execution_count": 23,
   "metadata": {
    "id": "uv4_LwBsklBF"
   },
   "outputs": [
    {
     "name": "stdout",
     "output_type": "stream",
     "text": [
      "Model: \"sequential\"\n",
      "_________________________________________________________________\n",
      " Layer (type)                Output Shape              Param #   \n",
      "=================================================================\n",
      " lstm (LSTM)                 (None, 10)                480       \n",
      "                                                                 \n",
      " dense (Dense)               (None, 1)                 11        \n",
      "                                                                 \n",
      "=================================================================\n",
      "Total params: 491 (1.92 KB)\n",
      "Trainable params: 491 (1.92 KB)\n",
      "Non-trainable params: 0 (0.00 Byte)\n",
      "_________________________________________________________________\n"
     ]
    }
   ],
   "source": [
    "model.summary()"
   ]
  },
  {
   "cell_type": "code",
   "execution_count": 24,
   "metadata": {},
   "outputs": [],
   "source": [
    "model.compile(optimizer='adam', loss='mse')"
   ]
  },
  {
   "cell_type": "markdown",
   "metadata": {
    "id": "FEySSjnXklBF"
   },
   "source": [
    "### EarlyStopping and creating a Validation Generator\n",
    "\n",
    "NOTE: The scaled_test dataset size MUST be greater than your length chosen for your batches. Review video for more info on this."
   ]
  },
  {
   "cell_type": "code",
   "execution_count": 25,
   "metadata": {
    "id": "ZSOF0UdQklBG"
   },
   "outputs": [],
   "source": [
    "validation_generator = TimeseriesGenerator(scaled_test, scaled_test, length=length, batch_size=1)"
   ]
  },
  {
   "cell_type": "code",
   "execution_count": 26,
   "metadata": {
    "id": "DGXOa7vH2SGs"
   },
   "outputs": [],
   "source": [
    "from tensorflow.keras.callbacks import EarlyStopping\n",
    "\n",
    "# Your code to create an object early-stop.\n",
    "\n",
    "early_stop = EarlyStopping(monitor='val_loss', patience=3)"
   ]
  },
  {
   "cell_type": "markdown",
   "metadata": {
    "id": "XGQ6FmGA2k3l"
   },
   "source": [
    "Now, fit your model."
   ]
  },
  {
   "cell_type": "code",
   "execution_count": 27,
   "metadata": {
    "id": "y3M9SdOWklBG"
   },
   "outputs": [
    {
     "name": "stdout",
     "output_type": "stream",
     "text": [
      "Epoch 1/10\n",
      "356/356 [==============================] - 3s 4ms/step - loss: 0.0260 - val_loss: 0.0412\n",
      "Epoch 2/10\n",
      "356/356 [==============================] - 1s 3ms/step - loss: 0.0134 - val_loss: 0.0442\n",
      "Epoch 3/10\n",
      "356/356 [==============================] - 1s 3ms/step - loss: 0.0132 - val_loss: 0.0438\n",
      "Epoch 4/10\n",
      "356/356 [==============================] - 1s 3ms/step - loss: 0.0129 - val_loss: 0.0400\n",
      "Epoch 5/10\n",
      "356/356 [==============================] - 1s 3ms/step - loss: 0.0130 - val_loss: 0.0388\n",
      "Epoch 6/10\n",
      "356/356 [==============================] - 1s 3ms/step - loss: 0.0127 - val_loss: 0.0393\n",
      "Epoch 7/10\n",
      "356/356 [==============================] - 1s 3ms/step - loss: 0.0125 - val_loss: 0.0370\n",
      "Epoch 8/10\n",
      "356/356 [==============================] - 1s 3ms/step - loss: 0.0125 - val_loss: 0.0380\n",
      "Epoch 9/10\n",
      "356/356 [==============================] - 1s 4ms/step - loss: 0.0126 - val_loss: 0.0359\n",
      "Epoch 10/10\n",
      "356/356 [==============================] - 1s 3ms/step - loss: 0.0117 - val_loss: 0.0374\n"
     ]
    }
   ],
   "source": [
    "# Your code to fit your model.\n",
    "history = model.fit(generator, epochs = 10, validation_data = validation_generator,\n",
    "                    callbacks = [early_stop])"
   ]
  },
  {
   "cell_type": "code",
   "execution_count": 28,
   "metadata": {
    "id": "b_FT924EklBG"
   },
   "outputs": [
    {
     "data": {
      "image/png": "[encoded data removed]",
      "text/plain": [
       "<Figure size 640x480 with 1 Axes>"
      ]
     },
     "metadata": {},
     "output_type": "display_data"
    }
   ],
   "source": [
    "# Get Losses from dataframe (hint - model.history.history)- See previous week tutorial.\n",
    "# Plot losses in the dataframe.\n",
    "\n",
    "losses = pd.DataFrame(model.history.history)\n",
    "\n",
    "plt.plot(history.history['loss'], label = 'Loss')\n",
    "plt.plot(history.history['val_loss'], label = 'Validation Loss')\n",
    "plt.xlabel('Epochs')\n",
    "plt.ylabel('Accuracy')\n",
    "plt.title('Training and Validation Accuracy vs Epochs')\n",
    "plt.legend()\n",
    "plt.show()"
   ]
  },
  {
   "cell_type": "markdown",
   "metadata": {
    "id": "xLHR70OiklBG"
   },
   "source": [
    "## Evaluate on Test Data"
   ]
  },
  {
   "cell_type": "code",
   "execution_count": 29,
   "metadata": {
    "id": "pfBvM-PDklBG"
   },
   "outputs": [],
   "source": [
    "first_eval_batch = scaled_train[-length:]"
   ]
  },
  {
   "cell_type": "code",
   "execution_count": 30,
   "metadata": {
    "id": "ilrLhGP5klBG"
   },
   "outputs": [
    {
     "name": "stdout",
     "output_type": "stream",
     "text": [
      "1/1 [==============================] - 0s 209ms/step\n"
     ]
    },
    {
     "data": {
      "text/plain": [
       "array([[0.61040896]], dtype=float32)"
      ]
     },
     "execution_count": 30,
     "metadata": {},
     "output_type": "execute_result"
    }
   ],
   "source": [
    "n_input = 12\n",
    "first_eval_batch = first_eval_batch.reshape((1, n_input, n_features))\n",
    "model.predict(first_eval_batch)\n"
   ]
  },
  {
   "cell_type": "code",
   "execution_count": 31,
   "metadata": {},
   "outputs": [
    {
     "data": {
      "text/plain": [
       "array([0.56724479])"
      ]
     },
     "execution_count": 31,
     "metadata": {},
     "output_type": "execute_result"
    }
   ],
   "source": [
    "# compare with the true result:\n",
    "scaled_test[0]"
   ]
  },
  {
   "cell_type": "markdown",
   "metadata": {
    "id": "OKjgr2QtklBH"
   },
   "source": [
    "#### Try predicting the series!"
   ]
  },
  {
   "cell_type": "code",
   "execution_count": 32,
   "metadata": {
    "id": "cem82lC7klBH"
   },
   "outputs": [
    {
     "name": "stdout",
     "output_type": "stream",
     "text": [
      "1/1 [==============================] - 0s 19ms/step\n",
      "1/1 [==============================] - 0s 17ms/step\n",
      "1/1 [==============================] - 0s 18ms/step\n",
      "1/1 [==============================] - 0s 17ms/step\n",
      "1/1 [==============================] - 0s 18ms/step\n",
      "1/1 [==============================] - 0s 17ms/step\n",
      "1/1 [==============================] - 0s 18ms/step\n",
      "1/1 [==============================] - 0s 18ms/step\n",
      "1/1 [==============================] - 0s 17ms/step\n",
      "1/1 [==============================] - 0s 17ms/step\n",
      "1/1 [==============================] - 0s 17ms/step\n",
      "1/1 [==============================] - 0s 17ms/step\n",
      "1/1 [==============================] - 0s 17ms/step\n",
      "1/1 [==============================] - 0s 17ms/step\n",
      "1/1 [==============================] - 0s 16ms/step\n",
      "1/1 [==============================] - 0s 17ms/step\n",
      "1/1 [==============================] - 0s 17ms/step\n",
      "1/1 [==============================] - 0s 17ms/step\n"
     ]
    }
   ],
   "source": [
    "test_predictions = []\n",
    "\n",
    "first_eval_batch = scaled_train[-length:]\n",
    "current_batch = first_eval_batch.reshape((1, length, n_features))\n",
    "\n",
    "for i in range(len(test)):\n",
    "    \n",
    "    # get prediction 1 time stamp ahead ([0] is for \n",
    "    # grabbing just the number instead of [array])\n",
    "    current_pred = model.predict(current_batch)[0]\n",
    "    \n",
    "    # store prediction\n",
    "    test_predictions.append(current_pred) \n",
    "    \n",
    "    # update batch to now include prediction and drop first value\n",
    "    current_batch = np.append(current_batch[:,1:,:],[[current_pred]],axis=1)"
   ]
  },
  {
   "cell_type": "markdown",
   "metadata": {
    "id": "z2400W3cklBH"
   },
   "source": [
    "## Inverse Transformations and Compare"
   ]
  },
  {
   "cell_type": "code",
   "execution_count": 44,
   "metadata": {
    "id": "8CTT2EJWklBH"
   },
   "outputs": [],
   "source": [
    "true_predictions = scaler.inverse_transform(test_predictions)"
   ]
  },
  {
   "cell_type": "code",
   "execution_count": 45,
   "metadata": {
    "id": "mkQkA0HXklBH"
   },
   "outputs": [
    {
     "name": "stderr",
     "output_type": "stream",
     "text": [
      "C:\\Users\\prana\\AppData\\Local\\Temp\\ipykernel_21112\\1339453577.py:2: SettingWithCopyWarning: \n",
      "A value is trying to be set on a copy of a slice from a DataFrame.\n",
      "Try using .loc[row_indexer,col_indexer] = value instead\n",
      "\n",
      "See the caveats in the documentation: https://pandas.pydata.org/pandas-docs/stable/user_guide/indexing.html#returning-a-view-versus-a-copy\n",
      "  test['Predictions'] = true_predictions\n"
     ]
    }
   ],
   "source": [
    "# IGNORE WARNINGS\n",
    "test['Predictions'] = true_predictions"
   ]
  },
  {
   "cell_type": "markdown",
   "metadata": {
    "id": "xbrJUx7z3hQF"
   },
   "source": [
    "# Check and plot predictions"
   ]
  },
  {
   "cell_type": "code",
   "execution_count": 46,
   "metadata": {
    "id": "SovbmFX1klBH"
   },
   "outputs": [
    {
     "name": "stdout",
     "output_type": "stream",
     "text": [
      "[array([0.61040896], dtype=float32), array([0.60725075], dtype=float32), array([0.60590416], dtype=float32), array([0.5963733], dtype=float32), array([0.5656047], dtype=float32), array([0.57257545], dtype=float32), array([0.5820829], dtype=float32), array([0.5816792], dtype=float32), array([0.5776305], dtype=float32), array([0.5703758], dtype=float32), array([0.56583446], dtype=float32), array([0.56134844], dtype=float32), array([0.55469304], dtype=float32), array([0.5492205], dtype=float32), array([0.54399496], dtype=float32), array([0.5387317], dtype=float32), array([0.5338256], dtype=float32), array([0.53061295], dtype=float32)]\n"
     ]
    }
   ],
   "source": [
    "# Print the test variable.\n",
    "\n",
    "print(test_predictions)"
   ]
  },
  {
   "cell_type": "code",
   "execution_count": 47,
   "metadata": {
    "id": "GI2daeyCklBH"
   },
   "outputs": [],
   "source": [
    "# Your code to plot actual sales and predictions.\n",
    "\n"
   ]
  },
  {
   "cell_type": "markdown",
   "metadata": {
    "collapsed": true,
    "id": "m-G9Sj8QklBH"
   },
   "source": [
    "# Retrain and Forecasting"
   ]
  },
  {
   "cell_type": "code",
   "execution_count": 48,
   "metadata": {
    "id": "x_LWNZcsklBH"
   },
   "outputs": [],
   "source": [
    "full_scaler = MinMaxScaler()\n",
    "scaled_full_data = full_scaler.fit_transform(df)"
   ]
  },
  {
   "cell_type": "code",
   "execution_count": 49,
   "metadata": {
    "id": "_Bv8HMGUklBH"
   },
   "outputs": [],
   "source": [
    "length = 12 # Length of the output sequences (in number of timesteps)\n",
    "generator = TimeseriesGenerator(scaled_full_data, \n",
    "                                scaled_full_data, length=length, batch_size=1)"
   ]
  },
  {
   "cell_type": "code",
   "execution_count": 39,
   "metadata": {
    "id": "rur4U6DqklBH"
   },
   "outputs": [],
   "source": [
    "#\n",
    "# Use any neural network model based on RNN\n",
    "#\n",
    "# Create the model\n"
   ]
  },
  {
   "cell_type": "code",
   "execution_count": 40,
   "metadata": {},
   "outputs": [],
   "source": [
    "# compile the model"
   ]
  },
  {
   "cell_type": "code",
   "execution_count": 41,
   "metadata": {},
   "outputs": [],
   "source": [
    "# use early_stop"
   ]
  },
  {
   "cell_type": "code",
   "execution_count": 42,
   "metadata": {},
   "outputs": [],
   "source": [
    "# fit the model"
   ]
  },
  {
   "cell_type": "code",
   "execution_count": 43,
   "metadata": {
    "id": "sLRI3xk6klBH"
   },
   "outputs": [
    {
     "ename": "SyntaxError",
     "evalue": "incomplete input (3653545150.py, line 15)",
     "output_type": "error",
     "traceback": [
      "\u001b[1;36m  Cell \u001b[1;32mIn[43], line 15\u001b[1;36m\u001b[0m\n\u001b[1;33m    # update batch to now include prediction and drop first value\u001b[0m\n\u001b[1;37m                                                                 ^\u001b[0m\n\u001b[1;31mSyntaxError\u001b[0m\u001b[1;31m:\u001b[0m incomplete input\n"
     ]
    }
   ],
   "source": [
    "forecast = []\n",
    "# Replace periods with whatever forecast length you want\n",
    "periods = 12\n",
    "\n",
    "first_eval_batch = scaled_full_data[-length:]\n",
    "current_batch = first_eval_batch.reshape((1, length, n_features))\n",
    "\n",
    "for i in range(periods):\n",
    "    \n",
    "    # get prediction 1 time stamp ahead ([0] is for  grabbing just the number instead of [array])\n",
    "    \n",
    "    \n",
    "    # store prediction forecast.append(current_pred) \n",
    "    \n",
    "    # update batch to now include prediction and drop first value\n"
   ]
  },
  {
   "cell_type": "code",
   "execution_count": null,
   "metadata": {
    "id": "NrOvllWLklBI"
   },
   "outputs": [],
   "source": [
    "forecast = scaler.inverse_transform(forecast)"
   ]
  },
  {
   "cell_type": "markdown",
   "metadata": {
    "id": "SX2a204lklBI"
   },
   "source": [
    "### Creating new timestamp index with pandas."
   ]
  },
  {
   "cell_type": "code",
   "execution_count": null,
   "metadata": {
    "id": "TKFbxg4nklBI"
   },
   "outputs": [],
   "source": [
    "df"
   ]
  },
  {
   "cell_type": "code",
   "execution_count": null,
   "metadata": {
    "id": "uXqTleSCklBI"
   },
   "outputs": [],
   "source": [
    "forecast_index = pd.date_range(start='2024-01-01',periods=periods,freq='MS')"
   ]
  },
  {
   "cell_type": "code",
   "execution_count": null,
   "metadata": {
    "id": "0M8HAJ2BklBI"
   },
   "outputs": [],
   "source": [
    "forecast_df = pd.DataFrame(data=forecast,index=forecast_index,\n",
    "                           columns=['Forecast'])"
   ]
  },
  {
   "cell_type": "code",
   "execution_count": null,
   "metadata": {
    "id": "FgbJpcIAklBI"
   },
   "outputs": [],
   "source": [
    "forecast_df"
   ]
  },
  {
   "cell_type": "code",
   "execution_count": null,
   "metadata": {
    "id": "VXkkIIBjklBI"
   },
   "outputs": [],
   "source": [
    "# Plot sales - Values in dataframe"
   ]
  },
  {
   "cell_type": "code",
   "execution_count": null,
   "metadata": {
    "id": "9wVB2DQM5ovH"
   },
   "outputs": [],
   "source": [
    "# Plot forecast - Values in forecast_df"
   ]
  },
  {
   "cell_type": "markdown",
   "metadata": {
    "id": "PjgZ7bnMklBI"
   },
   "source": [
    "### Joining pandas plots\n",
    "\n",
    "https://stackoverflow.com/questions/13872533/plot-different-dataframes-in-the-same-figure"
   ]
  },
  {
   "cell_type": "code",
   "execution_count": null,
   "metadata": {
    "id": "SimiIvlQklBI",
    "outputId": "3b363ed7-3bf7-4bc9-8131-25e35dd754a6"
   },
   "outputs": [],
   "source": [
    "ax = df.plot()\n",
    "forecast_df.plot(ax=ax)"
   ]
  },
  {
   "cell_type": "code",
   "execution_count": null,
   "metadata": {
    "id": "NPJKP6sMklBI",
    "outputId": "a9ca203b-d289-47e2-9532-a077148ebd0b"
   },
   "outputs": [],
   "source": [
    "ax = df.plot()\n",
    "forecast_df.plot(ax=ax)\n",
    "plt.xlim('2022-01-01','2025-01-01')"
   ]
  },
  {
   "cell_type": "markdown",
   "metadata": {
    "id": "6UncpiS4klBI"
   },
   "source": [
    "# Try the same example with a LSTM and GRU! \n",
    "Hint: Use LSTM instead of SimpleRNN!"
   ]
  },
  {
   "cell_type": "code",
   "execution_count": null,
   "metadata": {},
   "outputs": [],
   "source": []
  },
  {
   "cell_type": "code",
   "execution_count": null,
   "metadata": {},
   "outputs": [],
   "source": []
  },
  {
   "cell_type": "code",
   "execution_count": null,
   "metadata": {},
   "outputs": [],
   "source": []
  },
  {
   "cell_type": "code",
   "execution_count": null,
   "metadata": {},
   "outputs": [],
   "source": []
  },
  {
   "cell_type": "code",
   "execution_count": null,
   "metadata": {},
   "outputs": [],
   "source": []
  },
  {
   "cell_type": "code",
   "execution_count": null,
   "metadata": {},
   "outputs": [],
   "source": []
  },
  {
   "cell_type": "code",
   "execution_count": null,
   "metadata": {},
   "outputs": [],
   "source": []
  }
 ],
 "metadata": {
  "colab": {
   "provenance": []
  },
  "kernelspec": {
   "display_name": "Python 3 (ipykernel)",
   "language": "python",
   "name": "python3"
  },
  "language_info": {
   "codemirror_mode": {
    "name": "ipython",
    "version": 3
   },
   "file_extension": ".py",
   "mimetype": "text/x-python",
   "name": "python",
   "nbconvert_exporter": "python",
   "pygments_lexer": "ipython3",
   "version": "3.11.5"
  }
 },
 "nbformat": 4,
 "nbformat_minor": 1
}
